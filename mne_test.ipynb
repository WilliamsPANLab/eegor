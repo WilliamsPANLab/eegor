{
 "cells": [
  {
   "cell_type": "code",
   "execution_count": 1,
   "id": "ed37ab82",
   "metadata": {},
   "outputs": [],
   "source": [
    "import mne\n",
    "import matplotlib.pyplot as plt\n",
    "import seaborn as sns\n",
    "sns.set()\n",
    "%matplotlib inline"
   ]
  },
  {
   "cell_type": "code",
   "execution_count": 8,
   "id": "41b45dff",
   "metadata": {},
   "outputs": [
    {
     "name": "stdout",
     "output_type": "stream",
     "text": [
      "Reading 0 ... 445758  =      0.000 ...   222.879 secs...\n"
     ]
    },
    {
     "name": "stderr",
     "output_type": "stream",
     "text": [
      "<ipython-input-8-38e7c27c930b>:1: RuntimeWarning: Could not define the number of bytes automatically. Defaulting to 2.\n",
      "  eeg = mne.io.cnt.read_raw_cnt(\"/Users/pbezuhov/Desktop/eeg/data/testid_patient_2021-05-24_13-00-31.cnt\", preload=True)\n",
      "/Users/pbezuhov/opt/anaconda3/envs/panlab/lib/python3.9/site-packages/mne/channels/layout.py:762: RuntimeWarning: invalid value encountered in true_divide\n",
      "  xs /= sqs  # Shape to a sphere and normalize\n",
      "/Users/pbezuhov/opt/anaconda3/envs/panlab/lib/python3.9/site-packages/mne/channels/layout.py:763: RuntimeWarning: invalid value encountered in true_divide\n",
      "  ys /= sqs\n",
      "/Users/pbezuhov/opt/anaconda3/envs/panlab/lib/python3.9/site-packages/mne/channels/layout.py:773: RuntimeWarning: invalid value encountered in sin\n",
      "  zs = np.sin(alphas)\n"
     ]
    }
   ],
   "source": [
    "eeg = mne.io.cnt.read_raw_cnt(\"/Users/pbezuhov/Desktop/eeg/data/testid_patient_2021-05-24_13-00-31.cnt\", preload=True)"
   ]
  },
  {
   "cell_type": "code",
   "execution_count": 14,
   "id": "5497ee04",
   "metadata": {
    "scrolled": false
   },
   "outputs": [
    {
     "name": "stdout",
     "output_type": "stream",
     "text": [
      "Filtering raw data in 1 contiguous segment\n",
      "Setting up band-pass filter from 0.3 - 1e+02 Hz\n",
      "\n",
      "FIR filter parameters\n",
      "---------------------\n",
      "Designing a one-pass, zero-phase, non-causal bandpass filter:\n",
      "- Windowed time-domain design (firwin) method\n",
      "- Hamming window with 0.0194 passband ripple and 53 dB stopband attenuation\n",
      "- Lower passband edge: 0.30\n",
      "- Lower transition bandwidth: 0.30 Hz (-6 dB cutoff frequency: 0.15 Hz)\n",
      "- Upper passband edge: 100.00 Hz\n",
      "- Upper transition bandwidth: 25.00 Hz (-6 dB cutoff frequency: 112.50 Hz)\n",
      "- Filter length: 2751 samples (11.004 sec)\n",
      "\n",
      "Setting up band-stop filter from 59 - 61 Hz\n",
      "\n",
      "FIR filter parameters\n",
      "---------------------\n",
      "Designing a one-pass, zero-phase, non-causal bandstop filter:\n",
      "- Windowed time-domain design (firwin) method\n",
      "- Hamming window with 0.0194 passband ripple and 53 dB stopband attenuation\n",
      "- Lower passband edge: 59.35\n",
      "- Lower transition bandwidth: 0.50 Hz (-6 dB cutoff frequency: 59.10 Hz)\n",
      "- Upper passband edge: 60.65 Hz\n",
      "- Upper transition bandwidth: 0.50 Hz (-6 dB cutoff frequency: 60.90 Hz)\n",
      "- Filter length: 1651 samples (6.604 sec)\n",
      "\n"
     ]
    }
   ],
   "source": [
    "tmp = eeg.filter(0.3, 100)\n",
    "tmp = tmp.notch_filter([60])\n",
    "tmp = tmp.resample(250)"
   ]
  },
  {
   "cell_type": "code",
   "execution_count": 15,
   "id": "9a4b981c",
   "metadata": {},
   "outputs": [
    {
     "name": "stderr",
     "output_type": "stream",
     "text": [
      "<ipython-input-15-d26830a789fa>:1: RuntimeWarning: No bad channels to interpolate. Doing nothing...\n",
      "  tmp.interpolate_bads()\n"
     ]
    },
    {
     "data": {
      "text/html": [
       "\n",
       "\n",
       "<table class=\"table table-hover\">\n",
       "    <tr>\n",
       "        <th>Measurement date</th>\n",
       "        <td>May 24, 2021  20:00:32 GMT</td>\n",
       "        \n",
       "    </tr>\n",
       "    <tr>\n",
       "        <th>Experimenter</th>\n",
       "<td>Unknown</td>\n",
       "    </tr>\n",
       "        <th>Participant</th>\n",
       "        \n",
       "    </tr>\n",
       "    <tr>\n",
       "        <th>Digitized points</th>\n",
       "        <td>Not available</td>\n",
       "    </tr>\n",
       "    <tr>\n",
       "        <th>Good channels</th>\n",
       "        <td>0 magnetometer, 0 gradiometer,\n",
       "            and 64 EEG channels</td>\n",
       "    </tr>\n",
       "    <tr>\n",
       "        <th>Bad channels</th>\n",
       "        <td></td>\n",
       "        \n",
       "    </tr>\n",
       "    <tr>\n",
       "        <th>EOG channels</th>\n",
       "        <td>Not available</td>\n",
       "    </tr>\n",
       "    <tr>\n",
       "        <th>ECG channels</th>\n",
       "        <td>Not available</td>\n",
       "    <tr>\n",
       "        <th>Sampling frequency</th>\n",
       "        <td>250.00 Hz</td>\n",
       "    </tr>\n",
       "    <tr>\n",
       "        <th>Highpass</th>\n",
       "        <td>0.30 Hz</td>\n",
       "    </tr>\n",
       "     <tr>\n",
       "        <th>Lowpass</th>\n",
       "        <td>100.00 Hz</td>\n",
       "    </tr>\n",
       "\n",
       "    <tr>\n",
       "        <th>Filenames</th>\n",
       "        <td>testid_patient_2021-05-24_13-00-31.cnt</td>\n",
       "    </tr>\n",
       "    <tr>\n",
       "        <th>Duration</th>\n",
       "        <td>00:03:42 (HH:MM:SS)</td>\n",
       "    </tr>\n",
       "</table>\n"
      ],
      "text/plain": [
       "<RawCNT | testid_patient_2021-05-24_13-00-31.cnt, 64 x 55720 (222.9 s), ~27.3 MB, data loaded>"
      ]
     },
     "execution_count": 15,
     "metadata": {},
     "output_type": "execute_result"
    }
   ],
   "source": [
    "tmp."
   ]
  },
  {
   "cell_type": "code",
   "execution_count": null,
   "id": "17191cad",
   "metadata": {},
   "outputs": [],
   "source": []
  },
  {
   "cell_type": "code",
   "execution_count": 21,
   "id": "8d7c58ea",
   "metadata": {},
   "outputs": [],
   "source": [
    "t = eeg[63]"
   ]
  },
  {
   "cell_type": "code",
   "execution_count": 29,
   "id": "9f5088b1",
   "metadata": {},
   "outputs": [
    {
     "data": {
      "text/plain": [
       "(1, 445759)"
      ]
     },
     "execution_count": 29,
     "metadata": {},
     "output_type": "execute_result"
    }
   ],
   "source": [
    "t[0].shape"
   ]
  },
  {
   "cell_type": "code",
   "execution_count": null,
   "id": "689e7352",
   "metadata": {},
   "outputs": [
    {
     "name": "stderr",
     "output_type": "stream",
     "text": [
      "ERROR:root:Internal Python error in the inspect module.\n",
      "Below is the traceback from this internal error.\n",
      "\n",
      "\n",
      "KeyboardInterrupt\n",
      "\n"
     ]
    }
   ],
   "source": [
    "plt\n",
    "plt.plot(eeg[63][0])"
   ]
  },
  {
   "cell_type": "code",
   "execution_count": null,
   "id": "bd8229a2",
   "metadata": {},
   "outputs": [],
   "source": []
  }
 ],
 "metadata": {
  "kernelspec": {
   "display_name": "panlab",
   "language": "python",
   "name": "panlab"
  },
  "language_info": {
   "codemirror_mode": {
    "name": "ipython",
    "version": 3
   },
   "file_extension": ".py",
   "mimetype": "text/x-python",
   "name": "python",
   "nbconvert_exporter": "python",
   "pygments_lexer": "ipython3",
   "version": "3.9.4"
  }
 },
 "nbformat": 4,
 "nbformat_minor": 5
}
